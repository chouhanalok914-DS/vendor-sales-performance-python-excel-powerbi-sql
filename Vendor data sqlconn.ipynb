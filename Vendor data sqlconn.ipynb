{
 "cells": [
  {
   "cell_type": "code",
   "execution_count": 1,
   "id": "d32fe74d-3244-4b7a-ae79-b6648e2ce354",
   "metadata": {},
   "outputs": [],
   "source": [
    "import pandas as pd\n",
    "import numpy as np\n",
    "from sqlalchemy import create_engine\n",
    "import os"
   ]
  },
  {
   "cell_type": "code",
   "execution_count": 14,
   "id": "50f05de5-0fe1-4271-817c-069929a02cb9",
   "metadata": {},
   "outputs": [],
   "source": [
    "import pandas as pd\n",
    "import numpy as np\n",
    "from sqlalchemy import create_engine "
   ]
  },
  {
   "cell_type": "code",
   "execution_count": 2,
   "id": "691bce4e-2d3e-4d64-91d5-ab581dc8e47e",
   "metadata": {},
   "outputs": [],
   "source": [
    "def ingest_db(df,table_name,engine):\n",
    "    df.to_sql(table_name,con = engine , if_exists = \"replace\",index = False)"
   ]
  },
  {
   "cell_type": "code",
   "execution_count": 4,
   "id": "f2fa971b-07b5-41d1-8bcb-46d02df55162",
   "metadata": {},
   "outputs": [
    {
     "name": "stdout",
     "output_type": "stream",
     "text": [
      "begin_inventory.csv (206529, 9)\n"
     ]
    },
    {
     "ename": "NameError",
     "evalue": "name 'engine' is not defined",
     "output_type": "error",
     "traceback": [
      "\u001b[1;31m---------------------------------------------------------------------------\u001b[0m",
      "\u001b[1;31mNameError\u001b[0m                                 Traceback (most recent call last)",
      "Cell \u001b[1;32mIn[4], line 8\u001b[0m\n\u001b[0;32m      6\u001b[0m df \u001b[38;5;241m=\u001b[39m pd\u001b[38;5;241m.\u001b[39mread_csv(full_path)  \u001b[38;5;66;03m# sample rows\u001b[39;00m\n\u001b[0;32m      7\u001b[0m \u001b[38;5;28mprint\u001b[39m(file, df\u001b[38;5;241m.\u001b[39mshape)\n\u001b[1;32m----> 8\u001b[0m ingest_db(df, file[:\u001b[38;5;241m-\u001b[39m\u001b[38;5;241m4\u001b[39m], engine)\n",
      "\u001b[1;31mNameError\u001b[0m: name 'engine' is not defined"
     ]
    }
   ],
   "source": [
    "path = r'C:\\Users\\chouh\\Desktop\\python\\assignment\\Vendar data analysis\\data\\data'\n",
    "# this function will load the csv's as dataframe and ingest into db.\n",
    "for file in os.listdir(path):\n",
    "    if file.endswith('.csv'):\n",
    "        full_path = os.path.join(path, file)\n",
    "        df = pd.read_csv(full_path)  # sample rows\n",
    "        print(file, df.shape)\n",
    "        ingest_db(df, file[:-4], engine)"
   ]
  },
  {
   "cell_type": "code",
   "execution_count": null,
   "id": "76073cf3-9ec2-4b24-97d4-be6694dfb371",
   "metadata": {},
   "outputs": [],
   "source": [
    "engine = create_engine('sqlite:///inventory.db')                 \n",
    "# this function will ingest the dataframe into data base table\n",
    "def ingest_db(df, table_name, engine):                        \n",
    "    df.to_sql(table_name, con=engine, if_exists='replace', index=False)"
   ]
  },
  {
   "cell_type": "code",
   "execution_count": 12,
   "id": "130683cf-c87e-4143-b51c-3c6495aa3372",
   "metadata": {},
   "outputs": [
    {
     "name": "stdout",
     "output_type": "stream",
     "text": [
      "                   name\n",
      "0       begin_inventory\n",
      "1         end_inventory\n",
      "2             purchases\n",
      "3       purchase_prices\n",
      "4                 sales\n",
      "5        vendor_invoice\n",
      "6  vendor_sales_summary\n"
     ]
    }
   ],
   "source": [
    "import sqlite3\n",
    "\n",
    "conn = sqlite3.connect('inventory.db')\n",
    "tables = pd.read_sql_query(\"SELECT name FROM sqlite_master WHERE type='table'\", conn)\n",
    "print(tables)"
   ]
  },
  {
   "cell_type": "code",
   "execution_count": 13,
   "id": "60860f7c-5afb-427c-b221-8ad75ac4b75d",
   "metadata": {},
   "outputs": [
    {
     "data": {
      "text/html": [
       "<div>\n",
       "<style scoped>\n",
       "    .dataframe tbody tr th:only-of-type {\n",
       "        vertical-align: middle;\n",
       "    }\n",
       "\n",
       "    .dataframe tbody tr th {\n",
       "        vertical-align: top;\n",
       "    }\n",
       "\n",
       "    .dataframe thead th {\n",
       "        text-align: right;\n",
       "    }\n",
       "</style>\n",
       "<table border=\"1\" class=\"dataframe\">\n",
       "  <thead>\n",
       "    <tr style=\"text-align: right;\">\n",
       "      <th></th>\n",
       "      <th>VendorNumber</th>\n",
       "      <th>VendorName</th>\n",
       "      <th>Brand</th>\n",
       "      <th>Description</th>\n",
       "      <th>PurchasePrice</th>\n",
       "      <th>ActualPrice</th>\n",
       "      <th>Volume</th>\n",
       "      <th>TotalPurchaseQuantity</th>\n",
       "      <th>TotalPurchaseDollars</th>\n",
       "      <th>TotalSalesQuantity</th>\n",
       "      <th>TotalSalesDollars</th>\n",
       "      <th>TotalSalesPrice</th>\n",
       "      <th>TotalExciseTax</th>\n",
       "      <th>FreightCost</th>\n",
       "      <th>GrossProfit</th>\n",
       "      <th>ProfitMargin</th>\n",
       "      <th>StockTurnover</th>\n",
       "      <th>SalesToPurchaseRadio</th>\n",
       "    </tr>\n",
       "  </thead>\n",
       "  <tbody>\n",
       "    <tr>\n",
       "      <th>0</th>\n",
       "      <td>1128</td>\n",
       "      <td>BROWN-FORMAN CORP</td>\n",
       "      <td>1233</td>\n",
       "      <td>Jack Daniels No 7 Black</td>\n",
       "      <td>26.27</td>\n",
       "      <td>36.99</td>\n",
       "      <td>1750.0</td>\n",
       "      <td>145080</td>\n",
       "      <td>3811251.60</td>\n",
       "      <td>142049.0</td>\n",
       "      <td>5101919.51</td>\n",
       "      <td>672819.31</td>\n",
       "      <td>260999.20</td>\n",
       "      <td>68601.68</td>\n",
       "      <td>1290667.91</td>\n",
       "      <td>25.297693</td>\n",
       "      <td>0.979108</td>\n",
       "      <td>1.338647</td>\n",
       "    </tr>\n",
       "    <tr>\n",
       "      <th>1</th>\n",
       "      <td>4425</td>\n",
       "      <td>MARTIGNETTI COMPANIES</td>\n",
       "      <td>3405</td>\n",
       "      <td>Tito's Handmade Vodka</td>\n",
       "      <td>23.19</td>\n",
       "      <td>28.99</td>\n",
       "      <td>1750.0</td>\n",
       "      <td>164038</td>\n",
       "      <td>3804041.22</td>\n",
       "      <td>160247.0</td>\n",
       "      <td>4819073.49</td>\n",
       "      <td>561512.37</td>\n",
       "      <td>294438.66</td>\n",
       "      <td>144929.24</td>\n",
       "      <td>1015032.27</td>\n",
       "      <td>21.062810</td>\n",
       "      <td>0.976890</td>\n",
       "      <td>1.266830</td>\n",
       "    </tr>\n",
       "  </tbody>\n",
       "</table>\n",
       "</div>"
      ],
      "text/plain": [
       "   VendorNumber             VendorName  Brand              Description  \\\n",
       "0          1128      BROWN-FORMAN CORP   1233  Jack Daniels No 7 Black   \n",
       "1          4425  MARTIGNETTI COMPANIES   3405    Tito's Handmade Vodka   \n",
       "\n",
       "   PurchasePrice  ActualPrice  Volume  TotalPurchaseQuantity  \\\n",
       "0          26.27        36.99  1750.0                 145080   \n",
       "1          23.19        28.99  1750.0                 164038   \n",
       "\n",
       "   TotalPurchaseDollars  TotalSalesQuantity  TotalSalesDollars  \\\n",
       "0            3811251.60            142049.0         5101919.51   \n",
       "1            3804041.22            160247.0         4819073.49   \n",
       "\n",
       "   TotalSalesPrice  TotalExciseTax  FreightCost  GrossProfit  ProfitMargin  \\\n",
       "0        672819.31       260999.20     68601.68   1290667.91     25.297693   \n",
       "1        561512.37       294438.66    144929.24   1015032.27     21.062810   \n",
       "\n",
       "   StockTurnover  SalesToPurchaseRadio  \n",
       "0       0.979108              1.338647  \n",
       "1       0.976890              1.266830  "
      ]
     },
     "execution_count": 13,
     "metadata": {},
     "output_type": "execute_result"
    }
   ],
   "source": [
    "pd.read_sql(\"select * from vendor_sales_summary limit 2\",conn)"
   ]
  },
  {
   "cell_type": "code",
   "execution_count": 5,
   "id": "1290a725-b3a5-4dde-949d-0f83fa2fbd10",
   "metadata": {},
   "outputs": [
    {
     "name": "stdout",
     "output_type": "stream",
     "text": [
      "   VendorNumber                VendorName  Brand              Description  \\\n",
      "0          1128         BROWN-FORMAN CORP   1233  Jack Daniels No 7 Black   \n",
      "1          4425     MARTIGNETTI COMPANIES   3405    Tito's Handmade Vodka   \n",
      "2         17035         PERNOD RICARD USA   8068         Absolut 80 Proof   \n",
      "3          3960  DIAGEO NORTH AMERICA INC   4261   Capt Morgan Spiced Rum   \n",
      "4          3960  DIAGEO NORTH AMERICA INC   3545          Ketel One Vodka   \n",
      "\n",
      "   PurchasePrice  ActualPrice  Volume  TotalPurchaseQuantity  \\\n",
      "0          26.27        36.99  1750.0                 145080   \n",
      "1          23.19        28.99  1750.0                 164038   \n",
      "2          18.24        24.99  1750.0                 187407   \n",
      "3          16.17        22.99  1750.0                 201682   \n",
      "4          21.89        29.99  1750.0                 138109   \n",
      "\n",
      "   TotalPurchaseDollars  TotalSalesQuantity  TotalSalesDollars  \\\n",
      "0            3811251.60            142049.0         5101919.51   \n",
      "1            3804041.22            160247.0         4819073.49   \n",
      "2            3418303.68            187140.0         4538120.60   \n",
      "3            3261197.94            200412.0         4475972.88   \n",
      "4            3023206.01            135838.0         4223107.62   \n",
      "\n",
      "   TotalSalesPrice  TotalExciseTax  FreightCost  GrossProfit  ProfitMargin  \\\n",
      "0        672819.31       260999.20     68601.68   1290667.91     25.297693   \n",
      "1        561512.37       294438.66    144929.24   1015032.27     21.062810   \n",
      "2        461140.15       343854.07    123780.22   1119816.92     24.675786   \n",
      "3        420050.01       368242.80    257032.07   1214774.94     27.139908   \n",
      "4        545778.28       249587.83    257032.07   1199901.61     28.412764   \n",
      "\n",
      "   StockTurnover  SalesToPurchaseRadio  \n",
      "0       0.979108              1.338647  \n",
      "1       0.976890              1.266830  \n",
      "2       0.998575              1.327594  \n",
      "3       0.993703              1.372493  \n",
      "4       0.983556              1.396897  \n"
     ]
    }
   ],
   "source": [
    "import pandas as pd\n",
    "from sqlalchemy import create_engine\n",
    "engine = create_engine('sqlite:///inventory.db')\n",
    "\n",
    "# Database connection (example: PostgreSQL)\n",
    "\n",
    "# Final table ko SQL se DataFrame me lao\n",
    "df = pd.read_sql(\"SELECT * FROM vendor_sales_summary\", engine)\n",
    "\n",
    "print(df.head())   # check sample"
   ]
  },
  {
   "cell_type": "code",
   "execution_count": null,
   "id": "713cb4e1-2e16-4801-8dc8-3643ed0da3fb",
   "metadata": {},
   "outputs": [],
   "source": []
  }
 ],
 "metadata": {
  "kernelspec": {
   "display_name": "Python 3 (ipykernel)",
   "language": "python",
   "name": "python3"
  },
  "language_info": {
   "codemirror_mode": {
    "name": "ipython",
    "version": 3
   },
   "file_extension": ".py",
   "mimetype": "text/x-python",
   "name": "python",
   "nbconvert_exporter": "python",
   "pygments_lexer": "ipython3",
   "version": "3.12.7"
  }
 },
 "nbformat": 4,
 "nbformat_minor": 5
}
